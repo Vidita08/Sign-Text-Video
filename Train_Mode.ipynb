{
 "cells": [
  {
   "cell_type": "code",
   "execution_count": 1,
   "metadata": {},
   "outputs": [
    {
     "name": "stdout",
     "output_type": "stream",
     "text": [
      "Type of data_dict['data']: <class 'list'>\n",
      "Types of the first 5 elements: [<class 'list'>, <class 'list'>, <class 'list'>, <class 'list'>, <class 'list'>]\n",
      "Lengths of the first 5 elements: [42, 42, 42, 42, 42]\n",
      "First 3 entries of data: [[0.11293485760688782, 0.491838276386261, 0.20519322156906128, 0.3897280693054199, 0.2475191354751587, 0.23560413718223572, 0.2345067858695984, 0.10632643103599548, 0.22647720575332642, 0.0, 0.1775798201560974, 0.13742226362228394, 0.18164026737213135, 0.05477467179298401, 0.18387502431869507, 0.15036144852638245, 0.18537810444831848, 0.2392238974571228, 0.11826035380363464, 0.15482264757156372, 0.12728255987167358, 0.05828997492790222, 0.13879206776618958, 0.17819789052009583, 0.15079328417778015, 0.27689129114151, 0.060322850942611694, 0.18652307987213135, 0.06681153178215027, 0.09455269575119019, 0.09211060404777527, 0.21838432550430298, 0.11077490448951721, 0.31219834089279175, 0.0, 0.23511448502540588, 0.019329935312271118, 0.16408848762512207, 0.049979954957962036, 0.24984705448150635, 0.06822586059570312, 0.319979727268219], [0.11293485760688782, 0.491838276386261, 0.20519322156906128, 0.3897280693054199, 0.2475191354751587, 0.23560413718223572, 0.2345067858695984, 0.10632643103599548, 0.22647720575332642, 0.0, 0.1775798201560974, 0.13742226362228394, 0.18164026737213135, 0.05477467179298401, 0.18387502431869507, 0.15036144852638245, 0.18537810444831848, 0.2392238974571228, 0.11826035380363464, 0.15482264757156372, 0.12728255987167358, 0.05828997492790222, 0.13879206776618958, 0.17819789052009583, 0.15079328417778015, 0.27689129114151, 0.060322850942611694, 0.18652307987213135, 0.06681153178215027, 0.09455269575119019, 0.09211060404777527, 0.21838432550430298, 0.11077490448951721, 0.31219834089279175, 0.0, 0.23511448502540588, 0.019329935312271118, 0.16408848762512207, 0.049979954957962036, 0.24984705448150635, 0.06822586059570312, 0.319979727268219], [0.11320176720619202, 0.49399334192276, 0.20560267567634583, 0.396196186542511, 0.24875786900520325, 0.23925620317459106, 0.23649290204048157, 0.10814493894577026, 0.2279891073703766, 0.0, 0.18134701251983643, 0.1358635425567627, 0.1875506341457367, 0.05353787541389465, 0.1897251307964325, 0.14880892634391785, 0.18984097242355347, 0.23647242784500122, 0.12064996361732483, 0.15339583158493042, 0.12875935435295105, 0.05702236294746399, 0.13988783955574036, 0.17795807123184204, 0.15143552422523499, 0.27649956941604614, 0.061398208141326904, 0.18502342700958252, 0.06978198885917664, 0.09826096892356873, 0.09407541155815125, 0.22295716404914856, 0.11204561591148376, 0.3158702552318573, 0.0, 0.2329348921775818, 0.022121042013168335, 0.16411349177360535, 0.05151265859603882, 0.25149086117744446, 0.06868264079093933, 0.32121193408966064]]\n",
      "Warning: 2 entries were removed due to incorrect length.\n",
      "Data successfully converted to NumPy array with shape: (4270, 42)\n",
      "99.41451990632318% of samples were classified correctly!\n"
     ]
    }
   ],
   "source": [
    "import pickle\n",
    "from sklearn.ensemble import RandomForestClassifier\n",
    "from sklearn.model_selection import train_test_split\n",
    "from sklearn.metrics import accuracy_score\n",
    "import numpy as np\n",
    "\n",
    "# Load the data\n",
    "data_dict = pickle.load(open('./data.pickle', 'rb'))\n",
    "\n",
    "# Inspect the structure of data_dict['data']\n",
    "print(\"Type of data_dict['data']:\", type(data_dict['data']))\n",
    "print(\"Types of the first 5 elements:\", [type(x) for x in data_dict['data'][:5]])\n",
    "print(\"Lengths of the first 5 elements:\", [len(x) if hasattr(x, '__len__') else None for x in data_dict['data'][:5]])\n",
    "print(\"First 3 entries of data:\", data_dict['data'][:3])\n",
    "\n",
    "# Filter out any lists that do not have exactly 42 elements\n",
    "filtered_data = [x for x in data_dict['data'] if isinstance(x, list) and len(x) == 42]\n",
    "\n",
    "# Check if any data was removed\n",
    "if len(filtered_data) != len(data_dict['data']):\n",
    "    print(f\"Warning: {len(data_dict['data']) - len(filtered_data)} entries were removed due to incorrect length.\")\n",
    "\n",
    "# Convert the filtered lists into a 2D NumPy array\n",
    "try:\n",
    "    data = np.array(filtered_data)\n",
    "    print(\"Data successfully converted to NumPy array with shape:\", data.shape)\n",
    "except Exception as e:\n",
    "    print(\"Error converting data to NumPy array:\", e)\n",
    "    data = None  # Ensure data is None if conversion fails\n",
    "\n",
    "# Proceed if data conversion is successful\n",
    "if data is not None:\n",
    "    # Convert labels to NumPy array\n",
    "    labels = np.asarray(data_dict['labels'])\n",
    "\n",
    "    # Filter the labels to match the filtered data\n",
    "    filtered_labels = [label for idx, label in enumerate(labels) if isinstance(data_dict['data'][idx], list) and len(data_dict['data'][idx]) == 42]\n",
    "\n",
    "    # Ensure data and labels are ready for train-test split\n",
    "    if len(data) == len(filtered_labels):\n",
    "        x_train, x_test, y_train, y_test = train_test_split(data, filtered_labels, test_size=0.2, shuffle=True, stratify=filtered_labels)\n",
    "\n",
    "        # Train RandomForestClassifier\n",
    "        model = RandomForestClassifier()\n",
    "        model.fit(x_train, y_train)\n",
    "\n",
    "        # Predict and evaluate\n",
    "        y_predict = model.predict(x_test)\n",
    "        score = accuracy_score(y_predict, y_test)\n",
    "        print('{}% of samples were classified correctly!'.format(score * 100))\n",
    "\n",
    "        # Save the model\n",
    "        with open('model.pb', 'wb') as f:\n",
    "            pickle.dump({'model': model}, f)\n",
    "    else:\n",
    "        print(\"Mismatch between the number of data samples and filtered labels.\")\n",
    "else:\n",
    "    print(\"Data conversion failed. Exiting.\")\n"
   ]
  },
  {
   "cell_type": "code",
   "execution_count": 2,
   "metadata": {},
   "outputs": [
    {
     "name": "stdout",
     "output_type": "stream",
     "text": [
      "99.29742388758783% of samples were classified correctly!\n"
     ]
    }
   ],
   "source": [
    "import pickle\n",
    "from sklearn.svm import SVC\n",
    "from sklearn.model_selection import train_test_split\n",
    "from sklearn.metrics import accuracy_score\n",
    "import numpy as np\n",
    "\n",
    "# Load data\n",
    "data_dict = pickle.load(open('./data.pickle', 'rb'))\n",
    "\n",
    "# Filter out data points that do not have consistent length\n",
    "filtered_data = [x for x in data_dict['data'] if isinstance(x, list) and len(x) == 42]  # Assuming 42 is the expected length\n",
    "filtered_labels = [label for i, label in enumerate(data_dict['labels']) if isinstance(data_dict['data'][i], list) and len(data_dict['data'][i]) == 42]\n",
    "\n",
    "# Convert filtered data and labels into NumPy arrays\n",
    "data = np.array(filtered_data)\n",
    "labels = np.array(filtered_labels)\n",
    "\n",
    "# Ensure that the number of samples in data and labels matches\n",
    "if len(data) == len(labels):\n",
    "    # Split the data into training and testing sets\n",
    "    x_train, x_test, y_train, y_test = train_test_split(data, labels, test_size=0.2, shuffle=True, stratify=labels)\n",
    "\n",
    "    # Initialize the SVM model with RBF kernel\n",
    "    model = SVC(kernel='rbf')\n",
    "\n",
    "    # Train the model\n",
    "    model.fit(x_train, y_train)\n",
    "\n",
    "    # Make predictions\n",
    "    y_predict = model.predict(x_test)\n",
    "\n",
    "    # Calculate the accuracy score\n",
    "    score = accuracy_score(y_predict, y_test)\n",
    "\n",
    "    # Output the accuracy\n",
    "    print('{}% of samples were classified correctly!'.format(score * 100))\n",
    "\n",
    "    # Save the model\n",
    "    with open('model.pb', 'wb') as f:\n",
    "        pickle.dump({'model': model}, f)\n",
    "else:\n",
    "    print(\"Mismatch between the number of filtered data samples and labels.\")\n"
   ]
  },
  {
   "cell_type": "code",
   "execution_count": null,
   "metadata": {},
   "outputs": [],
   "source": []
  }
 ],
 "metadata": {
  "kernelspec": {
   "display_name": "Python 3 (ipykernel)",
   "language": "python",
   "name": "python3"
  },
  "language_info": {
   "codemirror_mode": {
    "name": "ipython",
    "version": 3
   },
   "file_extension": ".py",
   "mimetype": "text/x-python",
   "name": "python",
   "nbconvert_exporter": "python",
   "pygments_lexer": "ipython3",
   "version": "3.11.5"
  }
 },
 "nbformat": 4,
 "nbformat_minor": 4
}
